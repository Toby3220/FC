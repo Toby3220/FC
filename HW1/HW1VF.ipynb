{
 "cells": [
  {
   "cell_type": "code",
   "execution_count": 4,
   "metadata": {},
   "outputs": [],
   "source": [
    "import math\n",
    "import pandas as pd \n",
    "import numpy as np\n",
    "from pathlib import Path\n",
    "import matplotlib.pyplot as plt\n",
    "import scipy.optimize as sp_op\n",
    "from tqdm import tqdm \n",
    "\n",
    "import mosek.fusion as mos\n"
   ]
  },
  {
   "cell_type": "code",
   "execution_count": 5,
   "metadata": {},
   "outputs": [
    {
     "name": "stderr",
     "output_type": "stream",
     "text": [
      "100%|██████████| 776966/776966 [00:34<00:00, 22820.16it/s]\n"
     ]
    }
   ],
   "source": [
    "def raw_convert(data:pd.DataFrame,period:int,export = False):\n",
    "    # convert raw input data into data that samples once every x ticks\n",
    "    # data      : pd.DataFrame  - Input Raw Data\n",
    "    # period    : int           - sampling period \n",
    "    # return    : pd.DataFrame  - the sampled DataFrame \n",
    "\n",
    "    sval = period\n",
    "    out = []\n",
    "    for i in tqdm(range(0,data.shape[0])):\n",
    "        sval -= data.iloc[i,1]\n",
    "        while sval <=0: \n",
    "            out.append(data.iloc[i,0])\n",
    "            sval+=period\n",
    "    if export:\n",
    "        out = pd.DataFrame(out,columns=[\"last\"])\n",
    "        fp = Path('nptdata.csv')  \n",
    "        fp.parent.mkdir(parents=True, exist_ok=True)  \n",
    "        out.to_csv(fp)\n",
    "    return out\n",
    "\n",
    "def get_ret(data:pd.DataFrame,period:int=1):\n",
    "    # get n period retruns \n",
    "    # data      : pd.DataFrame  - Input Raw Data\n",
    "    # period    : int           - sampling period \n",
    "    # return    : pd.DataFrame  - the sampled DataFrame \n",
    "\n",
    "    ret =  (data-data.shift(period))/data.shift(period)\n",
    "    return ret\n",
    "\n",
    "rawdata = pd.read_csv(\"hsiapr_1tick.csv\")\n",
    "rawdata.columns = [\"last\",\"number\"]\n",
    "outdata = raw_convert(rawdata,10)"
   ]
  },
  {
   "cell_type": "code",
   "execution_count": 6,
   "metadata": {},
   "outputs": [],
   "source": [
    "ptdata = pd.read_csv(\"nptdata.csv\")\n",
    "ptdata = ptdata[\"last\"]\n",
    "\n",
    "ret = pd.DataFrame()\n",
    "ret[\"Ret\"] = get_ret(ptdata)\n",
    "ret.dropna(inplace=True)"
   ]
  },
  {
   "cell_type": "code",
   "execution_count": 16,
   "metadata": {},
   "outputs": [],
   "source": [
    "class data:\n",
    "    # Main data object \n",
    "    # allows one target data set be applied on by multiple prediective factor set and models\n",
    "\n",
    "    def __init__(self, data: pd.DataFrame, x: list = None, y: str = \"Ret\") -> None:\n",
    "        # Initalise Data Object\n",
    "        # data      : pd.DataFrame  - Input Raw Data\n",
    "        # x         : [str]         - Column Names for factor sets \n",
    "        # y         : str           - Column Name for target data set\n",
    "\n",
    "        self.datain = data \n",
    "        self.y_vec = y\n",
    "        self.x_vecs = x\n",
    "\n",
    "        #initialisation\n",
    "        self.x = dict()\n",
    "        self.y = dict()\n",
    "        self.yhat = dict()\n",
    "        \n",
    "        # list of models used\n",
    "        self.models_used = dict()\n",
    "        self.models_status = dict()\n",
    "\n",
    "        self.fignum=1\n",
    "\n",
    "    # split up data seqequence into multiple segments\n",
    "    def split(self, periods: dict = {\"train\": 0.6,\"test\": 0.4}):\n",
    "        # Split Up data into mutliple period, for training, Cross-Validation, Testing etc.\n",
    "        # periods   : dict{ Period Name: Fraction}  - Name for a Period or split, \n",
    "        #               Fraction is the Fraction of the whole data set in the period or split\n",
    "        #               \"Train\": 0.5 => 50% of total data in \"Train\" Data Set,\n",
    "        #               All Fractions MUST sum to 1\n",
    "\n",
    "        po = 0\n",
    "        valo = 0\n",
    "        for period in periods.keys():\n",
    "            self.x[period] = dict()\n",
    "            self.yhat[period] = dict()\n",
    "            pn = po + periods[period]\n",
    "            valn = round(pn*self.datain.shape[0])\n",
    "            if pn == 1:\n",
    "                self.y[period] = (self.datain[self.y_vec].iloc[valo:])\n",
    "            else:\n",
    "                self.y[period] = (self.datain[self.y_vec].iloc[valo:valn])\n",
    "            po = pn\n",
    "            valo = valn\n",
    "\n",
    "    def eval_all(self,period:str = \"train\"):\n",
    "        # Evaluate/ Backtest all sucessfully trained Models \n",
    "        # periods   : str     - Name of Period to Backtest, \n",
    "\n",
    "        for model in self.models_used.keys():\n",
    "            if self.models_status[model]:\n",
    "                self.models_used[model].predict(period)\n",
    "                self.models_used[model].eval(period)\n",
    "    \n",
    "class Model:\n",
    "    # empty interface class for any model\n",
    "\n",
    "    def __init__(self) -> None:\n",
    "        pass\n",
    "    def create_x():\n",
    "        pass\n",
    "    def train():\n",
    "       pass\n",
    "    def crossval():\n",
    "        pass\n",
    "    def eval(self,period:str): \n",
    "        pass\n",
    "\n",
    "\n",
    "class EWA_Model_1f(Model):\n",
    "    # Model class for the exponential weighted average model (1 factor)\n",
    "\n",
    "    def __init__(self,data:data,name:str = None) -> None:\n",
    "        # initiate an instance of the EWA-1Factor Model        \n",
    "        # data   : data     - passes a data object, the data for the model to apply to\n",
    "        # name   : str      - name of the model instance, if there's no name a defualt is used\n",
    "        #                   Model names MUST be unique\n",
    "        self.data = data\n",
    "        \n",
    "        if name:\n",
    "            self.name = name\n",
    "        else: \n",
    "            self.name = \"EWA_Model_1f\"      \n",
    "\n",
    "        data.models_used[self.name]=self\n",
    "        data.models_status[self.name]=False\n",
    "    \n",
    "    def eval_loss_func(self, sqers, lbd, v0):\n",
    "        # evaluate the loss function given data, lambda and intial volatility\n",
    "        # sqers  : pd.DataFrame     - squared error \n",
    "        # v0     : float            - intial volatility term\n",
    "        # lbd    : float            - lambda (training parameter)\n",
    "        # return : float            - the evaluated log likihood\n",
    "        vo = v0\n",
    "        sqero = sqers.iloc[0]\n",
    "        lossfunc = self.eval_single_loss(sqers.iloc[0],v0)\n",
    "        vol = [v0]\n",
    "        \n",
    "        for sqer in tqdm(sqers.iloc[1:]) :\n",
    "            \n",
    "            # find current vol estimate\n",
    "            vn = (1-lbd)*sqero+lbd*vo\n",
    "            # eval loss for vol\n",
    "            lossfunc += self.eval_single_loss(sqer,vn)\n",
    "            #record estimated vol\n",
    "            vol += [vn]\n",
    "            # update \n",
    "            vo=vn\n",
    "            sqero = sqer\n",
    "\n",
    "        self.lossfuncval = lossfunc\n",
    "        self.volhat = pd.DataFrame(vol,index=sqers.index,columns = [\"vol\"])\n",
    "        return lossfunc\n",
    "\n",
    "    def eval_single_loss(self,sqer,v):\n",
    "        # evaluate a single loss function given data\n",
    "        # private method\n",
    "\n",
    "        if v<0: v=1e-20\n",
    "        return math.log(v)+sqer/v\n",
    "    \n",
    "    def train(self,period:str=\"train\"):\n",
    "        # calls Scipy Optimiser to train the model\n",
    "        # period : str     - the period to train the model on \n",
    "\n",
    "        mu, sqers, v0 = self.create_x(period)\n",
    "    \n",
    "        self.opt_res = sp_op.minimize_scalar(\n",
    "            lambda l: self.eval_loss_func(lbd = l, sqers = sqers, v0 = v0),\n",
    "            method = \"bounded\",\n",
    "            bounds =(0,1),\n",
    "            options={\n",
    "                \"maxiter\" :  5000,\n",
    "                \"xatol\" :  1e-12  \n",
    "            })\n",
    "        \n",
    "        self.predict(\"train\")\n",
    "        print(self.opt_res)\n",
    "\n",
    "        if self.opt_res[\"message\"]==\"Solution found.\":\n",
    "            self.data.models_status[self.name]=True\n",
    "    \n",
    "    def create_x(self, period:str):\n",
    "        # generates and store all pre-requisites data and objects for the model to be trained or used \n",
    "        # period        : str           - the period to generate the pre-requisite\n",
    "        # retrun (mu)   : float         - period mean\n",
    "        # retrun (sqers): pd.DataFrame  - squared error \n",
    "        # retrun (v0)   : float         - intial volatility\n",
    "         \n",
    "        tdata = self.data.y[period]\n",
    "\n",
    "        mu = tdata.mean()\n",
    "        sqers = (tdata-mu)**2\n",
    "        v0 = (tdata.iloc[0]-mu)**2\n",
    "        x  = (mu,sqers,v0)\n",
    "        \n",
    "        self.data.x[period][self.name]=x\n",
    "\n",
    "        return mu,sqers,v0\n",
    "\n",
    "    def predict(self,period:str = \"test\"):\n",
    "        # use a trained model to predict volatility for the period \n",
    "        # period        : str           - the period to predict\n",
    "\n",
    "        lbest = self.opt_res[\"x\"]\n",
    "        mu, sqers, v0 = self.create_x(period)\n",
    "        self.eval_loss_func(lbd=lbest,sqers=sqers,v0=v0)\n",
    "\n",
    "        self.data.yhat[period][self.name] = self.volhat\n",
    "    \n",
    "    def eval(self,period:str = \"test\"):\n",
    "        # Evaluate/ Backtest and visualise the model performance on the period\n",
    "        # period        : str           - the period to evaluate/ backtest        \n",
    "\n",
    "        plt.figure(self.data.fignum)\n",
    "        self.data.fignum+=1\n",
    "\n",
    "        mu = self.data.x[period][self.name][0]\n",
    "        vhat = self.data.yhat[period][self.name]\n",
    "        y = pd.DataFrame(self.data.y[period])\n",
    "        stdval = (mu+vhat**0.5).rename(columns = {\"vol\": \"Ret\"})\n",
    "        less_than_1std = (abs(y)<=stdval).sum()*100/y.shape[0]\n",
    "\n",
    "        one_std_upper = plt.plot(mu+vhat**0.5,'b', label = \"1-std CI\")\n",
    "        one_std_lower = plt.plot(mu-vhat**0.5,'b')\n",
    "\n",
    "        actual = plt.plot(y,'g',alpha = 0.5, label = \"actual\")\n",
    "\n",
    "        three_std_upper = plt.plot(mu+3*vhat**0.5,'r', label = \"3-std CI\")\n",
    "        three_std_lower = plt.plot(mu-3*vhat**0.5,'r')\n",
    "\n",
    "        plt.xlabel(\"sample points \\n {}% of samples within 1 std\".format(round(less_than_1std.values[0],1)))\n",
    "        plt.ylabel(\"returns\")\n",
    "        plt.title(\"predicted return Intervals vs observed returns: {} period\".format(period))\n",
    "\n",
    "        plt.legend()\n",
    "        plt.show()\n",
    "         \n",
    "class GarchPQ (EWA_Model_1f):\n",
    "# Failed Implementation of a Garch PQ Model \n",
    "# inherited From the EWA_Model_1f, see the relavent documentations\n",
    "    \n",
    "# calls Scipy \"trust-constr\" solver, numerical issues encountered\n",
    "        \n",
    "    def __init__(self,data:data,name:str = None, P:int = 1, Q: int = 1) -> None:\n",
    "        self.data = data\n",
    "        self.P = P\n",
    "        self.Q = Q\n",
    "\n",
    "        if name:\n",
    "            self.name = name\n",
    "        else: \n",
    "            self.name = \"Garch{}{}\".format      \n",
    "\n",
    "        data.models_used[self.name]=self\n",
    "        data.models_status[self.name]=False\n",
    "    \n",
    "    def eval_loss_func(self, theta, sqers, v0):\n",
    "        # Need to Debug #\n",
    "        pvec = theta[:self.P]\n",
    "        qvec = theta[self.P:theta.shape[0]-1]\n",
    "        c = theta[-1]\n",
    "\n",
    "        vol = pd.Series(0,range(0,sqers.shape[0]))\n",
    "        vol.iloc[0:v0.shape[0]]=v0\n",
    "        lossfunc=0\n",
    "\n",
    "        sqero = np.ndarray(self.P)\n",
    "        volo = np.ndarray(self.Q)\n",
    "        volo = list()\n",
    "        if self.P > self.Q:\n",
    "            sqero[:] = sqers.iloc[:self.P]\n",
    "        else:\n",
    "            sqero[:] = sqers.iloc[self.Q-self.P:self.Q]\n",
    "        volo[:] = v0\n",
    "\n",
    "        sqero = np.flip(sqero)\n",
    "        volo = np.flip(volo)\n",
    "        i = max(self.P,self.Q)\n",
    "\n",
    "        for sqer in tqdm(sqers.iloc[i:]) :\n",
    "            # find current vol estimate\n",
    "            vn=0\n",
    "            vn += pvec.dot(sqero.T)\n",
    "            vn += qvec.dot(volo.T)\n",
    "            vn += c\n",
    "\n",
    "            # eval loss for vol\n",
    "            lossfunc += self.eval_single_loss(sqer,vn)\n",
    "            #record estimated vol\n",
    "\n",
    "            # update\n",
    "            sqero = np.roll(sqero,1)\n",
    "            sqero[0]=sqer\n",
    "            \n",
    "            volo = np.roll(volo,1)\n",
    "            volo[0]=vn\n",
    "            vol.iat[i]=vn\n",
    "\n",
    "            i+=1\n",
    "           \n",
    "        vol.index=sqers.index\n",
    "        self.lossfuncval = lossfunc\n",
    "        self.volhat = vol\n",
    "        return lossfunc\n",
    "\n",
    "    def eval_jac(self,theta, sqers, vol):\n",
    "        g = vol**-1*sqers*(vol**-2)\n",
    "        L = theta.shape[0]\n",
    "\n",
    "        jacvec = np.zeros(theta.shape)\n",
    "        for i in range(0,self.P):\n",
    "            t=g*sqers.shift(i+1)\n",
    "            jacvec[i]=t.sum()\n",
    "        for j in range(self.P,L-1):\n",
    "            t=g*vol.shift(j+1-self.P)\n",
    "            jacvec[j]=t.sum()\n",
    "        \n",
    "        return jacvec\n",
    "    def eval_hess(self,theta, sqers, vol):\n",
    "        g = vol**-1*sqers*(vol**-2)\n",
    "        h = -vol**-2+2*sqers*(vol**-3)\n",
    "        L = theta.shape[0]\n",
    "\n",
    "        hess = np.zeros([L,L])\n",
    "        for i in range(0,self.P):\n",
    "            for m in range(0,self.P):\n",
    "                t = h*sqers.shift(i+1)*sqers.shift(m+1)\n",
    "                hess[i,m]=t.sum()\n",
    "            for n in range(self.P,L-1):\n",
    "                t = h*sqers.shift(i+1)*vol.shift(n+1-self.P)\n",
    "                hess[i,n]=t.sum()\n",
    "        for j in range(self.P,L-1):\n",
    "            for m in range(0,self.P):\n",
    "                t = h*sqers.shift(m+1)*vol.shift(j+1-self.P)+g*sqers.shift(j+m+1-self.P)\n",
    "                hess[j,m]=t.sum()\n",
    "            for n in range(self.P,L-1):\n",
    "                t = h*vol.shift(j+1-self.P)*vol.shift(n+1-self.P)+g*vol.shift(j+n+1-2*self.P)\n",
    "                hess[j,n]=t.sum()\n",
    "        return hess\n",
    "\n",
    "    def train(self,period:str=\"train\", maxiter = 500):\n",
    "        # Need to Rework #\n",
    "        mu, sqers, v0, theta0 = self.create_x(period, a = 0.8)\n",
    "        theta0 = theta0.squeeze()\n",
    "        for i in range(0,theta0.shape[0]):\n",
    "            if theta0[i] < 0:\n",
    "                theta0[i] = 0\n",
    "        \n",
    "        # Constraints\n",
    "        probA = np.ones([1,len(theta0)])\n",
    "        problb = np.zeros(theta0.shape)\n",
    "        probub = np.ones(theta0.shape)\n",
    "\n",
    "        # call optimiser\n",
    "        self.opt_res=sp_op.minimize(\n",
    "            # method = \"SLSQP\",\n",
    "            method = \"trust-constr\",\n",
    "            fun = lambda theta: self.eval_loss_func(theta,sqers=sqers,v0=v0),\n",
    "            x0 = theta0,\n",
    "            jac = lambda theta: self.eval_jac(theta,sqers = sqers, vol=self.volhat),\n",
    "            hess = lambda theta: self.eval_hess(theta, sqers = sqers, vol = self.volhat),\n",
    "            bounds = sp_op.Bounds(lb = problb, ub = probub),\n",
    "            constraints= sp_op.LinearConstraint(A =probA, lb = 0, ub=1),\n",
    "            options = {\n",
    "                \"maxiter\":maxiter,\n",
    "                \"verbose\":3\n",
    "            }\n",
    "        )\n",
    "\n",
    "        self.predict(\"train\")\n",
    "        print(self.opt_res)\n",
    "\n",
    "        if self.opt_res[\"success\"]==\"Solution found.\" or self.opt_res[\"message\"]=='The maximum number of function evaluations is exceeded.':\n",
    "            self.data.models_status[self.name]=True\n",
    "   \n",
    "    def create_x(self, period:str, a = 0.99):\n",
    "        # Generate estimations\n",
    "        tdata = self.data.y[period]\n",
    "\n",
    "        mu = tdata.mean()\n",
    "        vol = tdata.var()\n",
    "        sqers = (tdata-mu)**2\n",
    "\n",
    "        if self.P > self.Q:\n",
    "            v0 = sqers.iloc[self.P-self.Q:self.P]\n",
    "        else:\n",
    "            v0 = sqers.iloc[:self.Q]\n",
    "\n",
    "        # finding intial guess (estimating assuming v_t = E(v), and Sum(Q)+Sum(P)=1)\n",
    "        Mp = pd.DataFrame(index= sqers.index, columns = range(0,self.P))\n",
    "        for i in range(1,self.P+1): \n",
    "            Mp.iloc[:,i-1] = sqers.shift(i)\n",
    "        Mpones = pd.DataFrame(1,sqers.index,range(0,self.P))\n",
    "        \n",
    "        A = (Mp - vol*Mpones).dropna()\n",
    "        b = pd.DataFrame(1,A.index,[0])\n",
    "        N = A.T.dot(A)\n",
    "        N_inv = pd.DataFrame(np.linalg.pinv(N.values),N.index,N.columns)\n",
    "        p0 = N_inv.dot(A.T.dot(b))\n",
    "        \n",
    "        v_ones_Q1 =pd.DataFrame(1,range(0,self.Q),[0])\n",
    "        M_ones_QQ = pd.DataFrame(1, range(0,self.Q), range(0,self.Q))\n",
    "        M_ones_QP = pd.DataFrame(1,range(0,self.Q),range(0,self.P))\n",
    "        M_ones_QQ_inv = pd.DataFrame(np.linalg.pinv(M_ones_QQ.values),M_ones_QQ.index,M_ones_QQ.columns)\n",
    "        \n",
    "        q0 = M_ones_QQ_inv.dot(v_ones_Q1)*a- M_ones_QQ_inv.dot(M_ones_QP).dot(p0)\n",
    "        theta0 = p0.append(q0).append([0]).values\n",
    "\n",
    "        x = (mu,sqers,v0,theta0)\n",
    "        \n",
    "        self.data.x[period][self.name]=x\n",
    "        \n",
    "        return mu,sqers,v0,theta0\n",
    "\n",
    "    def predict(self,period:str = \"test\"):\n",
    "        thetabest = self.opt_res[\"x\"]\n",
    "        mu, sqers, v0, theta0 = self.create_x(period)\n",
    "        self.eval_loss_func(theta=thetabest,sqers=sqers,v0=v0)\n",
    "\n",
    "        self.data.yhat[period][self.name] = pd.DataFrame(self.volhat,sqers.index,['vol'])\n"
   ]
  },
  {
   "cell_type": "code",
   "execution_count": 17,
   "metadata": {},
   "outputs": [
    {
     "name": "stderr",
     "output_type": "stream",
     "text": [
      "  0%|          | 0/78084 [00:00<?, ?it/s]"
     ]
    },
    {
     "name": "stderr",
     "output_type": "stream",
     "text": [
      "100%|██████████| 78084/78084 [00:00<00:00, 260934.30it/s]\n",
      "100%|██████████| 78084/78084 [00:00<00:00, 385672.91it/s]\n",
      "100%|██████████| 78084/78084 [00:00<00:00, 262727.77it/s]\n",
      "100%|██████████| 78084/78084 [00:00<00:00, 437772.39it/s]\n",
      "100%|██████████| 78084/78084 [00:00<00:00, 430184.46it/s]\n",
      "100%|██████████| 78084/78084 [00:00<00:00, 333160.77it/s]\n",
      "100%|██████████| 78084/78084 [00:00<00:00, 369578.65it/s]\n",
      "100%|██████████| 78084/78084 [00:00<00:00, 425499.23it/s]\n",
      "100%|██████████| 78084/78084 [00:00<00:00, 349460.44it/s]\n",
      "100%|██████████| 78084/78084 [00:00<00:00, 474335.16it/s]\n",
      "100%|██████████| 78084/78084 [00:00<00:00, 457751.65it/s]\n",
      "100%|██████████| 78084/78084 [00:00<00:00, 208768.07it/s]\n",
      "100%|██████████| 78084/78084 [00:00<00:00, 442236.59it/s]\n",
      "100%|██████████| 78084/78084 [00:00<00:00, 466021.84it/s]\n",
      "100%|██████████| 78084/78084 [00:00<00:00, 463157.64it/s]\n",
      "100%|██████████| 78084/78084 [00:00<00:00, 277633.65it/s]\n",
      "100%|██████████| 78084/78084 [00:00<00:00, 300600.94it/s]\n",
      "100%|██████████| 78084/78084 [00:00<00:00, 351027.21it/s]\n",
      "100%|██████████| 78084/78084 [00:00<00:00, 447382.95it/s]\n",
      "100%|██████████| 78084/78084 [00:00<00:00, 360745.30it/s]\n",
      "100%|██████████| 78084/78084 [00:00<00:00, 427187.55it/s]\n",
      "100%|██████████| 78084/78084 [00:00<00:00, 293232.65it/s]\n",
      "100%|██████████| 78084/78084 [00:00<00:00, 463179.92it/s]\n",
      "100%|██████████| 78084/78084 [00:00<00:00, 266247.00it/s]\n"
     ]
    },
    {
     "name": "stdout",
     "output_type": "stream",
     "text": [
      "     fun: -965263.7894132726\n",
      " message: 'Solution found.'\n",
      "    nfev: 23\n",
      "  status: 0\n",
      " success: True\n",
      "       x: 0.9994506856310927\n"
     ]
    },
    {
     "name": "stderr",
     "output_type": "stream",
     "text": [
      "100%|██████████| 52056/52056 [00:00<00:00, 138597.64it/s]\n"
     ]
    }
   ],
   "source": [
    "ptdata = pd.read_csv(\"nptdata.csv\")\n",
    "ptdata = ptdata[\"last\"]\n",
    "\n",
    "ret = pd.DataFrame()\n",
    "ret[\"Ret\"] = get_ret(ptdata)\n",
    "ret.dropna(inplace=True)\n",
    "\n",
    "retdata = data(ret)\n",
    "retdata.split()\n",
    "vol_model = EWA_Model_1f(retdata,\"EWA\")\n",
    "vol_model.train()\n",
    "vol_model.predict(\"test\")\n",
    "\n"
   ]
  },
  {
   "cell_type": "code",
   "execution_count": 18,
   "metadata": {},
   "outputs": [
    {
     "data": {
      "image/png": "[encoded data removed]",
      "text/plain": [
       "<Figure size 432x288 with 1 Axes>"
      ]
     },
     "metadata": {
      "needs_background": "light"
     },
     "output_type": "display_data"
    }
   ],
   "source": [
    "# evaluate the performance of the model for the testing period\n",
    "vol_model.eval(\"train\")\n"
   ]
  },
  {
   "cell_type": "code",
   "execution_count": 19,
   "metadata": {},
   "outputs": [
    {
     "data": {
      "image/png": "[encoded data removed]",
      "text/plain": [
       "<Figure size 432x288 with 1 Axes>"
      ]
     },
     "metadata": {
      "needs_background": "light"
     },
     "output_type": "display_data"
    }
   ],
   "source": [
    "# evaluate the performance of the model for the training period\n",
    "vol_model.eval(\"test\")\n"
   ]
  },
  {
   "cell_type": "code",
   "execution_count": 20,
   "metadata": {},
   "outputs": [
    {
     "name": "stderr",
     "output_type": "stream",
     "text": [
      "100%|██████████| 78081/78081 [00:04<00:00, 17704.90it/s]\n"
     ]
    },
    {
     "name": "stdout",
     "output_type": "stream",
     "text": [
      "| niter |f evals|CG iter|  obj func   |tr radius |   opt    |  c viol  | penalty  |barrier param|CG stop|\n",
      "|-------|-------|-------|-------------|----------|----------|----------|----------|-------------|-------|\n",
      "|   1   |   1   |   0   | +1.1375e+07 | 1.00e+00 | 6.38e+15 | 0.00e+00 | 1.00e+00 |  1.00e-01   |   0   |\n"
     ]
    },
    {
     "name": "stderr",
     "output_type": "stream",
     "text": [
      "100%|██████████| 78081/78081 [00:04<00:00, 17547.36it/s]\n"
     ]
    },
    {
     "name": "stdout",
     "output_type": "stream",
     "text": [
      "|   2   |   2   |   1   | +1.1375e+07 | 5.00e-01 | 6.38e+15 | 0.00e+00 | 1.00e+00 |  1.00e-01   |   2   |\n"
     ]
    },
    {
     "name": "stderr",
     "output_type": "stream",
     "text": [
      "100%|██████████| 78081/78081 [00:04<00:00, 16929.10it/s]\n"
     ]
    },
    {
     "name": "stdout",
     "output_type": "stream",
     "text": [
      "|   3   |   3   |   2   | +1.1375e+07 | 2.50e-01 | 6.38e+15 | 0.00e+00 | 1.00e+00 |  1.00e-01   |   2   |\n"
     ]
    },
    {
     "name": "stderr",
     "output_type": "stream",
     "text": [
      "100%|██████████| 78081/78081 [00:05<00:00, 14681.18it/s]\n"
     ]
    },
    {
     "name": "stdout",
     "output_type": "stream",
     "text": [
      "|   4   |   4   |   3   | +1.1375e+07 | 1.25e-01 | 6.38e+15 | 0.00e+00 | 1.00e+00 |  1.00e-01   |   2   |\n"
     ]
    },
    {
     "name": "stderr",
     "output_type": "stream",
     "text": [
      "100%|██████████| 78081/78081 [00:05<00:00, 14036.31it/s]\n"
     ]
    },
    {
     "name": "stdout",
     "output_type": "stream",
     "text": [
      "|   5   |   5   |   4   | -1.9347e+05 | 1.25e-01 | 3.65e+07 | 0.00e+00 | 1.00e+00 |  1.00e-01   |   2   |\n"
     ]
    },
    {
     "name": "stderr",
     "output_type": "stream",
     "text": [
      "100%|██████████| 78081/78081 [00:04<00:00, 17275.28it/s]\n"
     ]
    },
    {
     "name": "stdout",
     "output_type": "stream",
     "text": [
      "|   6   |   6   |   5   | -1.9347e+05 | 6.25e-02 | 3.65e+07 | 0.00e+00 | 1.00e+00 |  1.00e-01   |   2   |\n"
     ]
    },
    {
     "name": "stderr",
     "output_type": "stream",
     "text": [
      "100%|██████████| 78081/78081 [00:04<00:00, 16453.88it/s]\n"
     ]
    },
    {
     "name": "stdout",
     "output_type": "stream",
     "text": [
      "|   7   |   7   |   6   | -1.9347e+05 | 3.12e-02 | 3.65e+07 | 0.00e+00 | 1.00e+00 |  1.00e-01   |   2   |\n"
     ]
    },
    {
     "name": "stderr",
     "output_type": "stream",
     "text": [
      "100%|██████████| 78081/78081 [00:04<00:00, 16663.10it/s]\n"
     ]
    },
    {
     "name": "stdout",
     "output_type": "stream",
     "text": [
      "|   8   |   8   |   7   | -1.9347e+05 | 1.56e-02 | 3.65e+07 | 0.00e+00 | 1.00e+00 |  1.00e-01   |   2   |\n"
     ]
    },
    {
     "name": "stderr",
     "output_type": "stream",
     "text": [
      "100%|██████████| 78081/78081 [00:05<00:00, 13372.71it/s]\n"
     ]
    },
    {
     "name": "stdout",
     "output_type": "stream",
     "text": [
      "|   9   |   9   |   8   | -1.9347e+05 | 7.81e-03 | 3.65e+07 | 0.00e+00 | 1.00e+00 |  1.00e-01   |   2   |\n"
     ]
    },
    {
     "name": "stderr",
     "output_type": "stream",
     "text": [
      "100%|██████████| 78081/78081 [00:04<00:00, 18209.64it/s]\n"
     ]
    },
    {
     "name": "stdout",
     "output_type": "stream",
     "text": [
      "|  10   |  10   |   9   | -1.9347e+05 | 3.91e-03 | 3.65e+07 | 0.00e+00 | 1.00e+00 |  1.00e-01   |   2   |\n"
     ]
    },
    {
     "name": "stderr",
     "output_type": "stream",
     "text": [
      "100%|██████████| 78081/78081 [00:04<00:00, 18771.59it/s]\n"
     ]
    },
    {
     "name": "stdout",
     "output_type": "stream",
     "text": [
      "|  11   |  11   |  10   | -1.9347e+05 | 1.95e-03 | 3.65e+07 | 0.00e+00 | 1.00e+00 |  1.00e-01   |   2   |\n"
     ]
    },
    {
     "name": "stderr",
     "output_type": "stream",
     "text": [
      "100%|██████████| 78081/78081 [00:04<00:00, 15871.86it/s]\n"
     ]
    },
    {
     "name": "stdout",
     "output_type": "stream",
     "text": [
      "|  12   |  12   |  11   | -1.9347e+05 | 9.77e-04 | 3.65e+07 | 0.00e+00 | 1.00e+00 |  1.00e-01   |   2   |\n"
     ]
    },
    {
     "name": "stderr",
     "output_type": "stream",
     "text": [
      "100%|██████████| 78081/78081 [00:05<00:00, 13630.40it/s]\n"
     ]
    },
    {
     "name": "stdout",
     "output_type": "stream",
     "text": [
      "|  13   |  13   |  12   | -1.9347e+05 | 4.88e-04 | 3.65e+07 | 0.00e+00 | 1.00e+00 |  1.00e-01   |   2   |\n"
     ]
    },
    {
     "name": "stderr",
     "output_type": "stream",
     "text": [
      "100%|██████████| 78081/78081 [00:04<00:00, 19498.88it/s]\n"
     ]
    },
    {
     "name": "stdout",
     "output_type": "stream",
     "text": [
      "|  14   |  14   |  13   | -1.9347e+05 | 2.44e-04 | 3.65e+07 | 0.00e+00 | 1.00e+00 |  1.00e-01   |   2   |\n"
     ]
    },
    {
     "name": "stderr",
     "output_type": "stream",
     "text": [
      "100%|██████████| 78081/78081 [00:04<00:00, 18422.29it/s]\n"
     ]
    },
    {
     "name": "stdout",
     "output_type": "stream",
     "text": [
      "|  15   |  15   |  14   | -1.9347e+05 | 1.22e-04 | 3.65e+07 | 0.00e+00 | 1.00e+00 |  1.00e-01   |   2   |\n"
     ]
    },
    {
     "name": "stderr",
     "output_type": "stream",
     "text": [
      "100%|██████████| 78081/78081 [00:04<00:00, 18765.35it/s]\n"
     ]
    },
    {
     "name": "stdout",
     "output_type": "stream",
     "text": [
      "|  16   |  16   |  15   | -1.9347e+05 | 6.10e-05 | 3.65e+07 | 0.00e+00 | 1.00e+00 |  1.00e-01   |   2   |\n"
     ]
    },
    {
     "name": "stderr",
     "output_type": "stream",
     "text": [
      "100%|██████████| 78081/78081 [00:05<00:00, 15381.36it/s]\n"
     ]
    },
    {
     "name": "stdout",
     "output_type": "stream",
     "text": [
      "|  17   |  17   |  16   | -1.9347e+05 | 3.05e-05 | 3.65e+07 | 0.00e+00 | 1.00e+00 |  1.00e-01   |   2   |\n"
     ]
    },
    {
     "name": "stderr",
     "output_type": "stream",
     "text": [
      "100%|██████████| 78081/78081 [00:04<00:00, 17068.63it/s]\n"
     ]
    },
    {
     "name": "stdout",
     "output_type": "stream",
     "text": [
      "|  18   |  18   |  17   | -1.9347e+05 | 1.53e-05 | 3.65e+07 | 0.00e+00 | 1.00e+00 |  1.00e-01   |   2   |\n"
     ]
    },
    {
     "name": "stderr",
     "output_type": "stream",
     "text": [
      "100%|██████████| 78081/78081 [00:04<00:00, 19474.26it/s]\n"
     ]
    },
    {
     "name": "stdout",
     "output_type": "stream",
     "text": [
      "|  19   |  19   |  18   | -1.9347e+05 | 7.63e-06 | 3.65e+07 | 0.00e+00 | 1.00e+00 |  1.00e-01   |   2   |\n"
     ]
    },
    {
     "name": "stderr",
     "output_type": "stream",
     "text": [
      "100%|██████████| 78081/78081 [00:04<00:00, 15731.89it/s]\n"
     ]
    },
    {
     "name": "stdout",
     "output_type": "stream",
     "text": [
      "|  20   |  20   |  19   | -1.9347e+05 | 3.81e-06 | 3.65e+07 | 0.00e+00 | 1.00e+00 |  1.00e-01   |   2   |\n"
     ]
    },
    {
     "name": "stderr",
     "output_type": "stream",
     "text": [
      "100%|██████████| 78081/78081 [00:05<00:00, 14611.57it/s]\n"
     ]
    },
    {
     "name": "stdout",
     "output_type": "stream",
     "text": [
      "|  21   |  21   |  20   | -1.9347e+05 | 1.91e-06 | 3.65e+07 | 0.00e+00 | 1.00e+00 |  1.00e-01   |   2   |\n"
     ]
    },
    {
     "name": "stderr",
     "output_type": "stream",
     "text": [
      "100%|██████████| 78081/78081 [00:04<00:00, 16620.33it/s]\n"
     ]
    },
    {
     "name": "stdout",
     "output_type": "stream",
     "text": [
      "|  22   |  22   |  21   | -1.9347e+05 | 9.54e-07 | 3.65e+07 | 0.00e+00 | 1.00e+00 |  1.00e-01   |   2   |\n"
     ]
    },
    {
     "name": "stderr",
     "output_type": "stream",
     "text": [
      "100%|██████████| 78081/78081 [00:04<00:00, 18118.59it/s]\n"
     ]
    },
    {
     "name": "stdout",
     "output_type": "stream",
     "text": [
      "|  23   |  23   |  22   | -1.9347e+05 | 4.77e-07 | 3.65e+07 | 0.00e+00 | 1.00e+00 |  1.00e-01   |   2   |\n"
     ]
    },
    {
     "name": "stderr",
     "output_type": "stream",
     "text": [
      "100%|██████████| 78081/78081 [00:03<00:00, 19864.62it/s]\n"
     ]
    },
    {
     "name": "stdout",
     "output_type": "stream",
     "text": [
      "|  24   |  24   |  23   | -1.9347e+05 | 2.38e-07 | 3.65e+07 | 0.00e+00 | 1.00e+00 |  1.00e-01   |   2   |\n"
     ]
    },
    {
     "name": "stderr",
     "output_type": "stream",
     "text": [
      "100%|██████████| 78081/78081 [00:03<00:00, 20359.77it/s]\n"
     ]
    },
    {
     "name": "stdout",
     "output_type": "stream",
     "text": [
      "|  25   |  25   |  24   | -1.9347e+05 | 1.19e-07 | 3.65e+07 | 0.00e+00 | 1.00e+00 |  1.00e-01   |   2   |\n"
     ]
    },
    {
     "name": "stderr",
     "output_type": "stream",
     "text": [
      "100%|██████████| 78081/78081 [00:04<00:00, 18063.14it/s]\n"
     ]
    },
    {
     "name": "stdout",
     "output_type": "stream",
     "text": [
      "|  26   |  26   |  25   | -1.9347e+05 | 5.96e-08 | 3.65e+07 | 0.00e+00 | 1.00e+00 |  1.00e-01   |   2   |\n"
     ]
    },
    {
     "name": "stderr",
     "output_type": "stream",
     "text": [
      "100%|██████████| 78081/78081 [00:05<00:00, 15114.70it/s]\n"
     ]
    },
    {
     "name": "stdout",
     "output_type": "stream",
     "text": [
      "|  27   |  27   |  26   | -1.9347e+05 | 2.98e-08 | 3.65e+07 | 0.00e+00 | 1.00e+00 |  1.00e-01   |   2   |\n"
     ]
    },
    {
     "name": "stderr",
     "output_type": "stream",
     "text": [
      "100%|██████████| 78081/78081 [00:05<00:00, 13787.82it/s]\n"
     ]
    },
    {
     "name": "stdout",
     "output_type": "stream",
     "text": [
      "|  28   |  28   |  27   | -1.9347e+05 | 1.49e-08 | 3.65e+07 | 0.00e+00 | 1.00e+00 |  1.00e-01   |   2   |\n"
     ]
    },
    {
     "name": "stderr",
     "output_type": "stream",
     "text": [
      "100%|██████████| 78081/78081 [00:04<00:00, 18667.08it/s]\n"
     ]
    },
    {
     "name": "stdout",
     "output_type": "stream",
     "text": [
      "|  29   |  29   |  28   | -1.9347e+05 | 7.45e-09 | 3.65e+07 | 0.00e+00 | 1.00e+00 |  1.00e-01   |   2   |\n"
     ]
    },
    {
     "name": "stderr",
     "output_type": "stream",
     "text": [
      "100%|██████████| 78081/78081 [00:03<00:00, 19921.16it/s]\n"
     ]
    },
    {
     "name": "stdout",
     "output_type": "stream",
     "text": [
      "|  30   |  30   |  28   | -1.9347e+05 | 1.00e+00 | 3.65e+07 | 0.00e+00 | 1.00e+00 |  2.00e-02   |   0   |\n"
     ]
    },
    {
     "name": "stderr",
     "output_type": "stream",
     "text": [
      "100%|██████████| 78081/78081 [00:04<00:00, 16759.70it/s]\n"
     ]
    },
    {
     "name": "stdout",
     "output_type": "stream",
     "text": [
      "|  31   |  31   |  29   | -1.9347e+05 | 5.00e-01 | 3.65e+07 | 0.00e+00 | 1.00e+00 |  2.00e-02   |   2   |\n"
     ]
    },
    {
     "name": "stderr",
     "output_type": "stream",
     "text": [
      "100%|██████████| 78081/78081 [00:05<00:00, 14571.77it/s]\n"
     ]
    },
    {
     "name": "stdout",
     "output_type": "stream",
     "text": [
      "|  32   |  32   |  30   | -1.9347e+05 | 2.50e-01 | 3.65e+07 | 0.00e+00 | 1.00e+00 |  2.00e-02   |   2   |\n"
     ]
    },
    {
     "name": "stderr",
     "output_type": "stream",
     "text": [
      "100%|██████████| 78081/78081 [00:04<00:00, 17923.28it/s]\n"
     ]
    },
    {
     "name": "stdout",
     "output_type": "stream",
     "text": [
      "|  33   |  33   |  31   | -1.9347e+05 | 1.25e-01 | 3.65e+07 | 0.00e+00 | 1.00e+00 |  2.00e-02   |   2   |\n"
     ]
    },
    {
     "name": "stderr",
     "output_type": "stream",
     "text": [
      "100%|██████████| 78081/78081 [00:06<00:00, 11879.27it/s]\n"
     ]
    },
    {
     "name": "stdout",
     "output_type": "stream",
     "text": [
      "|  34   |  34   |  32   | -1.9347e+05 | 6.25e-02 | 3.65e+07 | 0.00e+00 | 1.00e+00 |  2.00e-02   |   2   |\n"
     ]
    },
    {
     "name": "stderr",
     "output_type": "stream",
     "text": [
      "100%|██████████| 78081/78081 [00:04<00:00, 16623.62it/s]\n"
     ]
    },
    {
     "name": "stdout",
     "output_type": "stream",
     "text": [
      "|  35   |  35   |  33   | -1.9347e+05 | 3.12e-02 | 3.65e+07 | 0.00e+00 | 1.00e+00 |  2.00e-02   |   2   |\n"
     ]
    },
    {
     "name": "stderr",
     "output_type": "stream",
     "text": [
      "100%|██████████| 78081/78081 [00:04<00:00, 16867.38it/s]\n"
     ]
    },
    {
     "name": "stdout",
     "output_type": "stream",
     "text": [
      "|  36   |  36   |  34   | -1.9347e+05 | 1.56e-02 | 3.65e+07 | 0.00e+00 | 1.00e+00 |  2.00e-02   |   2   |\n"
     ]
    },
    {
     "name": "stderr",
     "output_type": "stream",
     "text": [
      "100%|██████████| 78081/78081 [00:04<00:00, 18592.09it/s]\n"
     ]
    },
    {
     "name": "stdout",
     "output_type": "stream",
     "text": [
      "|  37   |  37   |  35   | -1.9347e+05 | 7.81e-03 | 3.65e+07 | 0.00e+00 | 1.00e+00 |  2.00e-02   |   2   |\n"
     ]
    },
    {
     "name": "stderr",
     "output_type": "stream",
     "text": [
      "100%|██████████| 78081/78081 [00:04<00:00, 16597.62it/s]\n"
     ]
    },
    {
     "name": "stdout",
     "output_type": "stream",
     "text": [
      "|  38   |  38   |  36   | -1.9347e+05 | 3.91e-03 | 3.65e+07 | 0.00e+00 | 1.00e+00 |  2.00e-02   |   2   |\n"
     ]
    },
    {
     "name": "stderr",
     "output_type": "stream",
     "text": [
      "100%|██████████| 78081/78081 [00:04<00:00, 15843.50it/s]\n"
     ]
    },
    {
     "name": "stdout",
     "output_type": "stream",
     "text": [
      "|  39   |  39   |  37   | -1.9347e+05 | 1.95e-03 | 3.65e+07 | 0.00e+00 | 1.00e+00 |  2.00e-02   |   2   |\n"
     ]
    },
    {
     "name": "stderr",
     "output_type": "stream",
     "text": [
      "100%|██████████| 78081/78081 [00:05<00:00, 14412.74it/s]\n"
     ]
    },
    {
     "name": "stdout",
     "output_type": "stream",
     "text": [
      "|  40   |  40   |  38   | -1.9347e+05 | 9.77e-04 | 3.65e+07 | 0.00e+00 | 1.00e+00 |  2.00e-02   |   2   |\n"
     ]
    },
    {
     "name": "stderr",
     "output_type": "stream",
     "text": [
      "100%|██████████| 78081/78081 [00:04<00:00, 18284.72it/s]\n"
     ]
    },
    {
     "name": "stdout",
     "output_type": "stream",
     "text": [
      "|  41   |  41   |  39   | -1.9347e+05 | 4.88e-04 | 3.65e+07 | 0.00e+00 | 1.00e+00 |  2.00e-02   |   2   |\n"
     ]
    },
    {
     "name": "stderr",
     "output_type": "stream",
     "text": [
      "100%|██████████| 78081/78081 [00:04<00:00, 15879.58it/s]\n"
     ]
    },
    {
     "name": "stdout",
     "output_type": "stream",
     "text": [
      "|  42   |  42   |  40   | -1.9347e+05 | 2.44e-04 | 3.65e+07 | 0.00e+00 | 1.00e+00 |  2.00e-02   |   2   |\n"
     ]
    },
    {
     "name": "stderr",
     "output_type": "stream",
     "text": [
      "100%|██████████| 78081/78081 [00:03<00:00, 19684.11it/s]\n"
     ]
    },
    {
     "name": "stdout",
     "output_type": "stream",
     "text": [
      "|  43   |  43   |  41   | -1.9347e+05 | 1.22e-04 | 3.65e+07 | 0.00e+00 | 1.00e+00 |  2.00e-02   |   2   |\n"
     ]
    },
    {
     "name": "stderr",
     "output_type": "stream",
     "text": [
      "100%|██████████| 78081/78081 [00:05<00:00, 14046.39it/s]\n"
     ]
    },
    {
     "name": "stdout",
     "output_type": "stream",
     "text": [
      "|  44   |  44   |  42   | -1.9347e+05 | 6.10e-05 | 3.65e+07 | 0.00e+00 | 1.00e+00 |  2.00e-02   |   2   |\n"
     ]
    },
    {
     "name": "stderr",
     "output_type": "stream",
     "text": [
      "100%|██████████| 78081/78081 [00:05<00:00, 13533.93it/s]\n"
     ]
    },
    {
     "name": "stdout",
     "output_type": "stream",
     "text": [
      "|  45   |  45   |  43   | -1.9347e+05 | 3.05e-05 | 3.65e+07 | 0.00e+00 | 1.00e+00 |  2.00e-02   |   2   |\n"
     ]
    },
    {
     "name": "stderr",
     "output_type": "stream",
     "text": [
      "100%|██████████| 78081/78081 [00:04<00:00, 16401.47it/s]\n"
     ]
    },
    {
     "name": "stdout",
     "output_type": "stream",
     "text": [
      "|  46   |  46   |  44   | -1.9347e+05 | 1.53e-05 | 3.65e+07 | 0.00e+00 | 1.00e+00 |  2.00e-02   |   2   |\n"
     ]
    },
    {
     "name": "stderr",
     "output_type": "stream",
     "text": [
      "100%|██████████| 78081/78081 [00:04<00:00, 16150.24it/s]\n"
     ]
    },
    {
     "name": "stdout",
     "output_type": "stream",
     "text": [
      "|  47   |  47   |  45   | -1.9347e+05 | 7.63e-06 | 3.65e+07 | 0.00e+00 | 1.00e+00 |  2.00e-02   |   2   |\n"
     ]
    },
    {
     "name": "stderr",
     "output_type": "stream",
     "text": [
      "100%|██████████| 78081/78081 [00:04<00:00, 16453.05it/s]\n"
     ]
    },
    {
     "name": "stdout",
     "output_type": "stream",
     "text": [
      "|  48   |  48   |  46   | -1.9347e+05 | 3.81e-06 | 3.65e+07 | 0.00e+00 | 1.00e+00 |  2.00e-02   |   2   |\n"
     ]
    },
    {
     "name": "stderr",
     "output_type": "stream",
     "text": [
      "100%|██████████| 78081/78081 [00:04<00:00, 16041.68it/s]\n"
     ]
    },
    {
     "name": "stdout",
     "output_type": "stream",
     "text": [
      "|  49   |  49   |  47   | -1.9347e+05 | 1.91e-06 | 3.65e+07 | 0.00e+00 | 1.00e+00 |  2.00e-02   |   2   |\n"
     ]
    },
    {
     "name": "stderr",
     "output_type": "stream",
     "text": [
      "100%|██████████| 78081/78081 [00:04<00:00, 17416.19it/s]\n"
     ]
    },
    {
     "name": "stdout",
     "output_type": "stream",
     "text": [
      "|  50   |  50   |  48   | -1.9347e+05 | 9.54e-07 | 3.65e+07 | 0.00e+00 | 1.00e+00 |  2.00e-02   |   2   |\n"
     ]
    },
    {
     "name": "stderr",
     "output_type": "stream",
     "text": [
      "100%|██████████| 78081/78081 [00:04<00:00, 19089.47it/s]\n"
     ]
    },
    {
     "name": "stdout",
     "output_type": "stream",
     "text": [
      "|  51   |  51   |  49   | -1.9347e+05 | 4.77e-07 | 3.65e+07 | 0.00e+00 | 1.00e+00 |  2.00e-02   |   2   |\n"
     ]
    },
    {
     "name": "stderr",
     "output_type": "stream",
     "text": [
      "100%|██████████| 78081/78081 [00:04<00:00, 19147.61it/s]\n"
     ]
    },
    {
     "name": "stdout",
     "output_type": "stream",
     "text": [
      "|  52   |  52   |  50   | -1.9347e+05 | 2.38e-07 | 3.65e+07 | 0.00e+00 | 1.00e+00 |  2.00e-02   |   2   |\n"
     ]
    },
    {
     "name": "stderr",
     "output_type": "stream",
     "text": [
      "100%|██████████| 78081/78081 [00:05<00:00, 13271.14it/s]\n"
     ]
    },
    {
     "name": "stdout",
     "output_type": "stream",
     "text": [
      "|  53   |  53   |  51   | -1.9347e+05 | 1.19e-07 | 3.65e+07 | 0.00e+00 | 1.00e+00 |  2.00e-02   |   2   |\n"
     ]
    },
    {
     "name": "stderr",
     "output_type": "stream",
     "text": [
      "100%|██████████| 78081/78081 [00:05<00:00, 13261.21it/s]\n"
     ]
    },
    {
     "name": "stdout",
     "output_type": "stream",
     "text": [
      "|  54   |  54   |  52   | -1.9347e+05 | 5.96e-08 | 3.65e+07 | 0.00e+00 | 1.00e+00 |  2.00e-02   |   2   |\n"
     ]
    },
    {
     "name": "stderr",
     "output_type": "stream",
     "text": [
      "100%|██████████| 78081/78081 [00:04<00:00, 18216.70it/s]\n"
     ]
    },
    {
     "name": "stdout",
     "output_type": "stream",
     "text": [
      "|  55   |  55   |  53   | -1.9347e+05 | 2.98e-08 | 3.65e+07 | 0.00e+00 | 1.00e+00 |  2.00e-02   |   2   |\n"
     ]
    },
    {
     "name": "stderr",
     "output_type": "stream",
     "text": [
      "100%|██████████| 78081/78081 [00:04<00:00, 17479.90it/s]\n"
     ]
    },
    {
     "name": "stdout",
     "output_type": "stream",
     "text": [
      "|  56   |  56   |  54   | -1.9347e+05 | 1.49e-08 | 3.65e+07 | 0.00e+00 | 1.00e+00 |  2.00e-02   |   2   |\n"
     ]
    },
    {
     "name": "stderr",
     "output_type": "stream",
     "text": [
      "100%|██████████| 78081/78081 [00:05<00:00, 14243.88it/s]\n"
     ]
    },
    {
     "name": "stdout",
     "output_type": "stream",
     "text": [
      "|  57   |  57   |  55   | -1.9347e+05 | 7.45e-09 | 3.65e+07 | 0.00e+00 | 1.00e+00 |  2.00e-02   |   2   |\n"
     ]
    },
    {
     "name": "stderr",
     "output_type": "stream",
     "text": [
      "100%|██████████| 78081/78081 [00:07<00:00, 10934.81it/s]\n"
     ]
    },
    {
     "name": "stdout",
     "output_type": "stream",
     "text": [
      "|  58   |  58   |  55   | -1.9347e+05 | 1.00e+00 | 3.65e+07 | 0.00e+00 | 1.00e+00 |  4.00e-03   |   0   |\n"
     ]
    },
    {
     "name": "stderr",
     "output_type": "stream",
     "text": [
      "100%|██████████| 78081/78081 [00:04<00:00, 18383.41it/s]\n"
     ]
    },
    {
     "name": "stdout",
     "output_type": "stream",
     "text": [
      "|  59   |  59   |  56   | -1.9347e+05 | 5.00e-01 | 3.65e+07 | 0.00e+00 | 1.00e+00 |  4.00e-03   |   2   |\n"
     ]
    },
    {
     "name": "stderr",
     "output_type": "stream",
     "text": [
      "100%|██████████| 78081/78081 [00:04<00:00, 17780.21it/s]\n"
     ]
    },
    {
     "name": "stdout",
     "output_type": "stream",
     "text": [
      "|  60   |  60   |  57   | -1.9347e+05 | 2.50e-01 | 3.65e+07 | 0.00e+00 | 1.00e+00 |  4.00e-03   |   2   |\n"
     ]
    },
    {
     "name": "stderr",
     "output_type": "stream",
     "text": [
      "100%|██████████| 78081/78081 [00:05<00:00, 13261.73it/s]\n"
     ]
    },
    {
     "name": "stdout",
     "output_type": "stream",
     "text": [
      "|  61   |  61   |  58   | -1.9347e+05 | 1.25e-01 | 3.65e+07 | 0.00e+00 | 1.00e+00 |  4.00e-03   |   2   |\n"
     ]
    },
    {
     "name": "stderr",
     "output_type": "stream",
     "text": [
      "100%|██████████| 78081/78081 [00:05<00:00, 13243.21it/s]\n"
     ]
    },
    {
     "name": "stdout",
     "output_type": "stream",
     "text": [
      "|  62   |  62   |  59   | -1.9347e+05 | 6.25e-02 | 3.65e+07 | 0.00e+00 | 1.00e+00 |  4.00e-03   |   2   |\n"
     ]
    },
    {
     "name": "stderr",
     "output_type": "stream",
     "text": [
      "100%|██████████| 78081/78081 [00:04<00:00, 16094.17it/s]\n"
     ]
    },
    {
     "name": "stdout",
     "output_type": "stream",
     "text": [
      "|  63   |  63   |  60   | -1.9347e+05 | 3.12e-02 | 3.65e+07 | 0.00e+00 | 1.00e+00 |  4.00e-03   |   2   |\n"
     ]
    },
    {
     "name": "stderr",
     "output_type": "stream",
     "text": [
      "100%|██████████| 78081/78081 [00:04<00:00, 17245.41it/s]\n"
     ]
    },
    {
     "name": "stdout",
     "output_type": "stream",
     "text": [
      "|  64   |  64   |  61   | -1.9347e+05 | 1.56e-02 | 3.65e+07 | 0.00e+00 | 1.00e+00 |  4.00e-03   |   2   |\n"
     ]
    },
    {
     "name": "stderr",
     "output_type": "stream",
     "text": [
      "100%|██████████| 78081/78081 [00:04<00:00, 16437.29it/s]\n"
     ]
    },
    {
     "name": "stdout",
     "output_type": "stream",
     "text": [
      "|  65   |  65   |  62   | -1.9347e+05 | 7.81e-03 | 3.65e+07 | 0.00e+00 | 1.00e+00 |  4.00e-03   |   2   |\n"
     ]
    },
    {
     "name": "stderr",
     "output_type": "stream",
     "text": [
      "100%|██████████| 78081/78081 [00:04<00:00, 15711.31it/s]\n"
     ]
    },
    {
     "name": "stdout",
     "output_type": "stream",
     "text": [
      "|  66   |  66   |  63   | -1.9347e+05 | 3.91e-03 | 3.65e+07 | 0.00e+00 | 1.00e+00 |  4.00e-03   |   2   |\n"
     ]
    },
    {
     "name": "stderr",
     "output_type": "stream",
     "text": [
      "100%|██████████| 78081/78081 [00:06<00:00, 11713.12it/s]\n"
     ]
    },
    {
     "name": "stdout",
     "output_type": "stream",
     "text": [
      "|  67   |  67   |  64   | -1.9347e+05 | 1.95e-03 | 3.65e+07 | 0.00e+00 | 1.00e+00 |  4.00e-03   |   2   |\n"
     ]
    },
    {
     "name": "stderr",
     "output_type": "stream",
     "text": [
      "100%|██████████| 78081/78081 [00:05<00:00, 14739.55it/s]\n"
     ]
    },
    {
     "name": "stdout",
     "output_type": "stream",
     "text": [
      "|  68   |  68   |  65   | -1.9347e+05 | 9.77e-04 | 3.65e+07 | 0.00e+00 | 1.00e+00 |  4.00e-03   |   2   |\n"
     ]
    },
    {
     "name": "stderr",
     "output_type": "stream",
     "text": [
      "100%|██████████| 78081/78081 [00:05<00:00, 13409.04it/s]\n"
     ]
    },
    {
     "name": "stdout",
     "output_type": "stream",
     "text": [
      "|  69   |  69   |  66   | -1.9347e+05 | 4.88e-04 | 3.65e+07 | 0.00e+00 | 1.00e+00 |  4.00e-03   |   2   |\n"
     ]
    },
    {
     "name": "stderr",
     "output_type": "stream",
     "text": [
      "100%|██████████| 78081/78081 [00:05<00:00, 14176.65it/s]\n"
     ]
    },
    {
     "name": "stdout",
     "output_type": "stream",
     "text": [
      "|  70   |  70   |  67   | -1.9347e+05 | 2.44e-04 | 3.65e+07 | 0.00e+00 | 1.00e+00 |  4.00e-03   |   2   |\n"
     ]
    },
    {
     "name": "stderr",
     "output_type": "stream",
     "text": [
      "100%|██████████| 78081/78081 [00:05<00:00, 15518.30it/s]\n"
     ]
    },
    {
     "name": "stdout",
     "output_type": "stream",
     "text": [
      "|  71   |  71   |  68   | -1.9347e+05 | 1.22e-04 | 3.65e+07 | 0.00e+00 | 1.00e+00 |  4.00e-03   |   2   |\n"
     ]
    },
    {
     "name": "stderr",
     "output_type": "stream",
     "text": [
      "100%|██████████| 78081/78081 [00:05<00:00, 14356.89it/s]\n"
     ]
    },
    {
     "name": "stdout",
     "output_type": "stream",
     "text": [
      "|  72   |  72   |  69   | -1.9347e+05 | 6.10e-05 | 3.65e+07 | 0.00e+00 | 1.00e+00 |  4.00e-03   |   2   |\n"
     ]
    },
    {
     "name": "stderr",
     "output_type": "stream",
     "text": [
      "100%|██████████| 78081/78081 [00:05<00:00, 14076.36it/s]\n"
     ]
    },
    {
     "name": "stdout",
     "output_type": "stream",
     "text": [
      "|  73   |  73   |  70   | -1.9347e+05 | 3.05e-05 | 3.65e+07 | 0.00e+00 | 1.00e+00 |  4.00e-03   |   2   |\n"
     ]
    },
    {
     "name": "stderr",
     "output_type": "stream",
     "text": [
      "100%|██████████| 78081/78081 [00:04<00:00, 17467.90it/s]\n"
     ]
    },
    {
     "name": "stdout",
     "output_type": "stream",
     "text": [
      "|  74   |  74   |  71   | -1.9347e+05 | 1.53e-05 | 3.65e+07 | 0.00e+00 | 1.00e+00 |  4.00e-03   |   2   |\n"
     ]
    },
    {
     "name": "stderr",
     "output_type": "stream",
     "text": [
      "100%|██████████| 78081/78081 [00:04<00:00, 17598.65it/s]\n"
     ]
    },
    {
     "name": "stdout",
     "output_type": "stream",
     "text": [
      "|  75   |  75   |  72   | -1.9347e+05 | 7.63e-06 | 3.65e+07 | 0.00e+00 | 1.00e+00 |  4.00e-03   |   2   |\n"
     ]
    },
    {
     "name": "stderr",
     "output_type": "stream",
     "text": [
      "100%|██████████| 78081/78081 [00:04<00:00, 18462.28it/s]\n"
     ]
    },
    {
     "name": "stdout",
     "output_type": "stream",
     "text": [
      "|  76   |  76   |  73   | -1.9347e+05 | 3.81e-06 | 3.65e+07 | 0.00e+00 | 1.00e+00 |  4.00e-03   |   2   |\n"
     ]
    },
    {
     "name": "stderr",
     "output_type": "stream",
     "text": [
      "100%|██████████| 78081/78081 [00:05<00:00, 15600.30it/s]\n"
     ]
    },
    {
     "name": "stdout",
     "output_type": "stream",
     "text": [
      "|  77   |  77   |  74   | -1.9347e+05 | 1.91e-06 | 3.65e+07 | 0.00e+00 | 1.00e+00 |  4.00e-03   |   2   |\n"
     ]
    },
    {
     "name": "stderr",
     "output_type": "stream",
     "text": [
      "100%|██████████| 78081/78081 [00:04<00:00, 17133.77it/s]\n"
     ]
    },
    {
     "name": "stdout",
     "output_type": "stream",
     "text": [
      "|  78   |  78   |  75   | -1.9347e+05 | 9.54e-07 | 3.65e+07 | 0.00e+00 | 1.00e+00 |  4.00e-03   |   2   |\n"
     ]
    },
    {
     "name": "stderr",
     "output_type": "stream",
     "text": [
      "100%|██████████| 78081/78081 [00:03<00:00, 20281.98it/s]\n"
     ]
    },
    {
     "name": "stdout",
     "output_type": "stream",
     "text": [
      "|  79   |  79   |  76   | -1.9347e+05 | 4.77e-07 | 3.65e+07 | 0.00e+00 | 1.00e+00 |  4.00e-03   |   2   |\n"
     ]
    },
    {
     "name": "stderr",
     "output_type": "stream",
     "text": [
      "100%|██████████| 78081/78081 [00:04<00:00, 16075.28it/s]\n"
     ]
    },
    {
     "name": "stdout",
     "output_type": "stream",
     "text": [
      "|  80   |  80   |  77   | -1.9347e+05 | 2.38e-07 | 3.65e+07 | 0.00e+00 | 1.00e+00 |  4.00e-03   |   2   |\n"
     ]
    },
    {
     "name": "stderr",
     "output_type": "stream",
     "text": [
      "100%|██████████| 78081/78081 [00:04<00:00, 17499.04it/s]\n"
     ]
    },
    {
     "name": "stdout",
     "output_type": "stream",
     "text": [
      "|  81   |  81   |  78   | -1.9347e+05 | 1.19e-07 | 3.65e+07 | 0.00e+00 | 1.00e+00 |  4.00e-03   |   2   |\n"
     ]
    },
    {
     "name": "stderr",
     "output_type": "stream",
     "text": [
      "100%|██████████| 78081/78081 [00:06<00:00, 12250.63it/s]\n"
     ]
    },
    {
     "name": "stdout",
     "output_type": "stream",
     "text": [
      "|  82   |  82   |  79   | -1.9347e+05 | 5.96e-08 | 3.65e+07 | 0.00e+00 | 1.00e+00 |  4.00e-03   |   2   |\n"
     ]
    },
    {
     "name": "stderr",
     "output_type": "stream",
     "text": [
      "100%|██████████| 78081/78081 [00:04<00:00, 18352.04it/s]\n"
     ]
    },
    {
     "name": "stdout",
     "output_type": "stream",
     "text": [
      "|  83   |  83   |  80   | -1.9347e+05 | 2.98e-08 | 3.65e+07 | 0.00e+00 | 1.00e+00 |  4.00e-03   |   2   |\n"
     ]
    },
    {
     "name": "stderr",
     "output_type": "stream",
     "text": [
      "100%|██████████| 78081/78081 [00:04<00:00, 16857.19it/s]\n"
     ]
    },
    {
     "name": "stdout",
     "output_type": "stream",
     "text": [
      "|  84   |  84   |  81   | -1.9347e+05 | 1.49e-08 | 3.65e+07 | 0.00e+00 | 1.00e+00 |  4.00e-03   |   2   |\n"
     ]
    },
    {
     "name": "stderr",
     "output_type": "stream",
     "text": [
      "100%|██████████| 78081/78081 [00:05<00:00, 14565.96it/s]\n"
     ]
    },
    {
     "name": "stdout",
     "output_type": "stream",
     "text": [
      "|  85   |  85   |  82   | -1.9347e+05 | 7.45e-09 | 3.65e+07 | 0.00e+00 | 1.00e+00 |  4.00e-03   |   2   |\n"
     ]
    },
    {
     "name": "stderr",
     "output_type": "stream",
     "text": [
      "100%|██████████| 78081/78081 [00:06<00:00, 11892.04it/s]\n"
     ]
    },
    {
     "name": "stdout",
     "output_type": "stream",
     "text": [
      "|  86   |  86   |  82   | -1.9347e+05 | 1.00e+00 | 3.65e+07 | 0.00e+00 | 1.00e+00 |  8.00e-04   |   0   |\n"
     ]
    },
    {
     "name": "stderr",
     "output_type": "stream",
     "text": [
      "100%|██████████| 78081/78081 [00:04<00:00, 17019.78it/s]\n"
     ]
    },
    {
     "name": "stdout",
     "output_type": "stream",
     "text": [
      "|  87   |  87   |  83   | -1.9347e+05 | 5.00e-01 | 3.65e+07 | 0.00e+00 | 1.00e+00 |  8.00e-04   |   2   |\n"
     ]
    },
    {
     "name": "stderr",
     "output_type": "stream",
     "text": [
      "100%|██████████| 78081/78081 [00:04<00:00, 18559.31it/s]\n"
     ]
    },
    {
     "name": "stdout",
     "output_type": "stream",
     "text": [
      "|  88   |  88   |  84   | -1.9347e+05 | 2.50e-01 | 3.65e+07 | 0.00e+00 | 1.00e+00 |  8.00e-04   |   2   |\n"
     ]
    },
    {
     "name": "stderr",
     "output_type": "stream",
     "text": [
      "100%|██████████| 78081/78081 [00:04<00:00, 18005.35it/s]\n"
     ]
    },
    {
     "name": "stdout",
     "output_type": "stream",
     "text": [
      "|  89   |  89   |  85   | -1.9347e+05 | 1.25e-01 | 3.65e+07 | 0.00e+00 | 1.00e+00 |  8.00e-04   |   2   |\n"
     ]
    },
    {
     "name": "stderr",
     "output_type": "stream",
     "text": [
      "100%|██████████| 78081/78081 [00:04<00:00, 18155.05it/s]\n"
     ]
    },
    {
     "name": "stdout",
     "output_type": "stream",
     "text": [
      "|  90   |  90   |  86   | -1.9347e+05 | 6.25e-02 | 3.65e+07 | 0.00e+00 | 1.00e+00 |  8.00e-04   |   2   |\n"
     ]
    },
    {
     "name": "stderr",
     "output_type": "stream",
     "text": [
      "100%|██████████| 78081/78081 [00:05<00:00, 13334.33it/s]\n"
     ]
    },
    {
     "name": "stdout",
     "output_type": "stream",
     "text": [
      "|  91   |  91   |  87   | -1.9347e+05 | 3.12e-02 | 3.65e+07 | 0.00e+00 | 1.00e+00 |  8.00e-04   |   2   |\n"
     ]
    },
    {
     "name": "stderr",
     "output_type": "stream",
     "text": [
      "100%|██████████| 78081/78081 [00:05<00:00, 15190.03it/s]\n"
     ]
    },
    {
     "name": "stdout",
     "output_type": "stream",
     "text": [
      "|  92   |  92   |  88   | -1.9347e+05 | 1.56e-02 | 3.65e+07 | 0.00e+00 | 1.00e+00 |  8.00e-04   |   2   |\n"
     ]
    },
    {
     "name": "stderr",
     "output_type": "stream",
     "text": [
      "100%|██████████| 78081/78081 [00:06<00:00, 11858.41it/s]\n"
     ]
    },
    {
     "name": "stdout",
     "output_type": "stream",
     "text": [
      "|  93   |  93   |  89   | -1.9347e+05 | 7.81e-03 | 3.65e+07 | 0.00e+00 | 1.00e+00 |  8.00e-04   |   2   |\n"
     ]
    },
    {
     "name": "stderr",
     "output_type": "stream",
     "text": [
      "100%|██████████| 78081/78081 [00:06<00:00, 11700.53it/s]\n"
     ]
    },
    {
     "name": "stdout",
     "output_type": "stream",
     "text": [
      "|  94   |  94   |  90   | -1.9347e+05 | 3.91e-03 | 3.65e+07 | 0.00e+00 | 1.00e+00 |  8.00e-04   |   2   |\n"
     ]
    },
    {
     "name": "stderr",
     "output_type": "stream",
     "text": [
      "100%|██████████| 78081/78081 [00:06<00:00, 12567.64it/s]\n"
     ]
    },
    {
     "name": "stdout",
     "output_type": "stream",
     "text": [
      "|  95   |  95   |  91   | -1.9347e+05 | 1.95e-03 | 3.65e+07 | 0.00e+00 | 1.00e+00 |  8.00e-04   |   2   |\n"
     ]
    },
    {
     "name": "stderr",
     "output_type": "stream",
     "text": [
      "100%|██████████| 78081/78081 [00:06<00:00, 12986.49it/s]\n"
     ]
    },
    {
     "name": "stdout",
     "output_type": "stream",
     "text": [
      "|  96   |  96   |  92   | -1.9347e+05 | 9.77e-04 | 3.65e+07 | 0.00e+00 | 1.00e+00 |  8.00e-04   |   2   |\n"
     ]
    },
    {
     "name": "stderr",
     "output_type": "stream",
     "text": [
      "100%|██████████| 78081/78081 [00:04<00:00, 15841.29it/s]\n"
     ]
    },
    {
     "name": "stdout",
     "output_type": "stream",
     "text": [
      "|  97   |  97   |  93   | -1.9347e+05 | 4.88e-04 | 3.65e+07 | 0.00e+00 | 1.00e+00 |  8.00e-04   |   2   |\n"
     ]
    },
    {
     "name": "stderr",
     "output_type": "stream",
     "text": [
      "100%|██████████| 78081/78081 [00:05<00:00, 15410.67it/s]\n"
     ]
    },
    {
     "name": "stdout",
     "output_type": "stream",
     "text": [
      "|  98   |  98   |  94   | -1.9347e+05 | 2.44e-04 | 3.65e+07 | 0.00e+00 | 1.00e+00 |  8.00e-04   |   2   |\n"
     ]
    },
    {
     "name": "stderr",
     "output_type": "stream",
     "text": [
      "100%|██████████| 78081/78081 [00:05<00:00, 13738.78it/s]\n"
     ]
    },
    {
     "name": "stdout",
     "output_type": "stream",
     "text": [
      "|  99   |  99   |  95   | -1.9347e+05 | 1.22e-04 | 3.65e+07 | 0.00e+00 | 1.00e+00 |  8.00e-04   |   2   |\n"
     ]
    },
    {
     "name": "stderr",
     "output_type": "stream",
     "text": [
      "100%|██████████| 78081/78081 [00:06<00:00, 11818.34it/s]\n"
     ]
    },
    {
     "name": "stdout",
     "output_type": "stream",
     "text": [
      "|  100  |  100  |  96   | -1.9347e+05 | 6.10e-05 | 3.65e+07 | 0.00e+00 | 1.00e+00 |  8.00e-04   |   2   |\n",
      "\n",
      "The maximum number of function evaluations is exceeded.\n",
      "Number of iterations: 100, function evaluations: 100, CG iterations: 96, optimality: 3.65e+07, constraint violation: 0.00e+00, execution time: 4.9e+02 s.\n"
     ]
    },
    {
     "name": "stderr",
     "output_type": "stream",
     "text": [
      "100%|██████████| 78081/78081 [00:04<00:00, 17593.18it/s]"
     ]
    },
    {
     "name": "stdout",
     "output_type": "stream",
     "text": [
      " barrier_parameter: 0.0008000000000000003\n",
      " barrier_tolerance: 0.0008000000000000003\n",
      "          cg_niter: 96\n",
      "      cg_stop_cond: 2\n",
      "            constr: [array([0.78371363]), array([0.0002304 , 0.01925967, 0.18661511, 0.18564253, 0.18547874,\n",
      "       0.18488448, 0.0216027 ])]\n",
      "       constr_nfev: [0, 0]\n",
      "       constr_nhev: [0, 0]\n",
      "       constr_njev: [0, 0]\n",
      "    constr_penalty: 1.0\n",
      "  constr_violation: 0.0\n",
      "    execution_time: 493.606125831604\n",
      "               fun: -193472.14098892096\n",
      "              grad: array([1.48669595e+08, 7.50868751e+07, 1.48669610e+08, 7.50868906e+07,\n",
      "       4.29718104e+06, 1.55440571e+01, 0.00000000e+00])\n",
      "               jac: [array([[1., 1., 1., 1., 1., 1., 1.]]), array([[1., 0., 0., 0., 0., 0., 0.],\n",
      "       [0., 1., 0., 0., 0., 0., 0.],\n",
      "       [0., 0., 1., 0., 0., 0., 0.],\n",
      "       [0., 0., 0., 1., 0., 0., 0.],\n",
      "       [0., 0., 0., 0., 1., 0., 0.],\n",
      "       [0., 0., 0., 0., 0., 1., 0.],\n",
      "       [0., 0., 0., 0., 0., 0., 1.]])]\n",
      "   lagrangian_grad: array([ 36520748.0176537 ,   8597137.7295999 ,  34915594.53194427,\n",
      "         8103647.23147993, -17677526.3915051 , -19238263.5471294 ,\n",
      "       -21047497.86152264])\n",
      "           message: 'The maximum number of function evaluations is exceeded.'\n",
      "            method: 'tr_interior_point'\n",
      "              nfev: 100\n",
      "              nhev: 5\n",
      "               nit: 100\n",
      "             niter: 100\n",
      "              njev: 5\n",
      "        optimality: 36520748.0176537\n",
      "            status: 0\n",
      "           success: False\n",
      "         tr_radius: 6.103515625e-05\n",
      "                 v: [array([-52836892.77234506]), array([-59311954.1125212 , -13652844.56865627, -60917123.12215546,\n",
      "       -14146350.6065981 ,  30862185.33731879,  33598613.68115854,\n",
      "        31789394.91082242])]\n",
      "                 x: array([0.0002304 , 0.01925967, 0.18661511, 0.18564253, 0.18547874,\n",
      "       0.18488448, 0.0216027 ])\n"
     ]
    },
    {
     "name": "stderr",
     "output_type": "stream",
     "text": [
      "\n"
     ]
    }
   ],
   "source": [
    "## Fail Implementation of Garch PQ\n",
    "\n",
    "Garch_model = GarchPQ(retdata,\"Garch\",P=2,Q=4)\n",
    "Garch_model.train(maxiter=100)"
   ]
  },
  {
   "cell_type": "code",
   "execution_count": 21,
   "metadata": {},
   "outputs": [
    {
     "name": "stderr",
     "output_type": "stream",
     "text": [
      "100%|██████████| 52053/52053 [00:02<00:00, 22076.41it/s]\n"
     ]
    },
    {
     "data": {
      "image/png": "[encoded data removed]",
      "text/plain": [
       "<Figure size 432x288 with 1 Axes>"
      ]
     },
     "metadata": {
      "needs_background": "light"
     },
     "output_type": "display_data"
    }
   ],
   "source": [
    "Garch_model.predict(\"test\")\n",
    "Garch_model.eval(\"test\")\n",
    "# failed implementation "
   ]
  }
 ],
 "metadata": {
  "kernelspec": {
   "display_name": "OAFdata",
   "language": "python",
   "name": "python3"
  },
  "language_info": {
   "codemirror_mode": {
    "name": "ipython",
    "version": 3
   },
   "file_extension": ".py",
   "mimetype": "text/x-python",
   "name": "python",
   "nbconvert_exporter": "python",
   "pygments_lexer": "ipython3",
   "version": "3.9.12"
  }
 },
 "nbformat": 4,
 "nbformat_minor": 2
}
